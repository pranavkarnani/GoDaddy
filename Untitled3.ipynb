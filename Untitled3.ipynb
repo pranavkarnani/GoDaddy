{
  "nbformat": 4,
  "nbformat_minor": 0,
  "metadata": {
    "colab": {
      "provenance": [],
      "authorship_tag": "ABX9TyO4O//5+J3t592TaIwgTrcc",
      "include_colab_link": true
    },
    "kernelspec": {
      "name": "python3",
      "display_name": "Python 3"
    },
    "language_info": {
      "name": "python"
    },
    "accelerator": "GPU",
    "gpuClass": "standard"
  },
  "cells": [
    {
      "cell_type": "markdown",
      "metadata": {
        "id": "view-in-github",
        "colab_type": "text"
      },
      "source": [
        "<a href=\"https://colab.research.google.com/github/pranavkarnani/GoDaddy/blob/master/Untitled3.ipynb\" target=\"_parent\"><img src=\"https://colab.research.google.com/assets/colab-badge.svg\" alt=\"Open In Colab\"/></a>"
      ]
    },
    {
      "cell_type": "code",
      "execution_count": null,
      "metadata": {
        "id": "ejyWBf66sF0a"
      },
      "outputs": [],
      "source": [
        "import pandas as pd\n",
        "import matplotlib.pyplot as plt\n",
        "import seaborn as sns\n",
        "import numpy as np\n",
        "from sklearn.linear_model import LinearRegression\n",
        "\n",
        "from sklearn.model_selection import GroupKFold\n",
        "import itertools\n",
        "from sklearn.ensemble import GradientBoostingRegressor\n",
        "from sklearn.model_selection import GridSearchCV\n",
        "from sklearn.model_selection import KFold\n",
        "from tqdm import tqdm\n",
        "\n",
        "import torch\n",
        "import torch.nn as nn\n",
        "from torch.utils.data import Dataset, DataLoader\n",
        "\n",
        "plt.rcParams[\"figure.figsize\"] = (10,8)"
      ]
    },
    {
      "cell_type": "code",
      "source": [
        "device = 'cuda' if torch.cuda.is_available() else 'cpu'\n",
        "device"
      ],
      "metadata": {
        "id": "4d8TnGvgDfZU",
        "colab": {
          "base_uri": "https://localhost:8080/",
          "height": 35
        },
        "outputId": "17cae4d7-f18d-4b2b-a305-1abad99ae32f"
      },
      "execution_count": null,
      "outputs": [
        {
          "output_type": "execute_result",
          "data": {
            "text/plain": [
              "'cuda'"
            ],
            "application/vnd.google.colaboratory.intrinsic+json": {
              "type": "string"
            }
          },
          "metadata": {},
          "execution_count": 35
        }
      ]
    },
    {
      "cell_type": "code",
      "source": [
        "def smape(y_true, y_pred):\n",
        "    smap = np.zeros(len(y_true))\n",
        "    num = np.abs(y_true - y_pred)\n",
        "    dem = ((np.abs(y_true) + np.abs(y_pred)) / 2)\n",
        "    pos_ind = (y_true!=0)|(y_pred!=0)\n",
        "    smap[pos_ind] = num[pos_ind] / dem[pos_ind]\n",
        "    return 100 * np.mean(smap)\n",
        "    \n",
        "def vsmape(y_true, y_pred):\n",
        "    smap = np.zeros(len(y_true))\n",
        "    num = np.abs(y_true - y_pred)\n",
        "    dem = ((np.abs(y_true) + np.abs(y_pred)) / 2)\n",
        "    pos_ind = (y_true!=0)|(y_pred!=0)\n",
        "    smap[pos_ind] = num[pos_ind] / dem[pos_ind]\n",
        "    return 100 * smap"
      ],
      "metadata": {
        "id": "LHx6mkVmDcSQ"
      },
      "execution_count": null,
      "outputs": []
    },
    {
      "cell_type": "code",
      "source": [
        "from google.colab import drive\n",
        "drive.mount('/content/drive')\n",
        "\n",
        "! pip install -q kaggle\n",
        "! rm -r ~/.kaggle\n",
        "! mkdir ~/.kaggle\n",
        "! cp /content/drive/MyDrive/kaggle.json ~/.kaggle/\n",
        "\n",
        "! kaggle competitions download -c godaddy-microbusiness-density-forecasting\n",
        "! unzip -q /content/godaddy-microbusiness-density-forecasting.zip"
      ],
      "metadata": {
        "id": "EEzcr93nsHnm",
        "colab": {
          "base_uri": "https://localhost:8080/"
        },
        "outputId": "f44d8ed9-04e4-4574-c2ed-8ea30c7f5e84"
      },
      "execution_count": null,
      "outputs": [
        {
          "output_type": "stream",
          "name": "stdout",
          "text": [
            "Mounted at /content/drive\n",
            "rm: cannot remove '/root/.kaggle': No such file or directory\n",
            "Downloading godaddy-microbusiness-density-forecasting.zip to /content\n",
            "100% 1.83M/1.83M [00:01<00:00, 2.09MB/s]\n",
            "100% 1.83M/1.83M [00:01<00:00, 1.85MB/s]\n"
          ]
        }
      ]
    },
    {
      "cell_type": "code",
      "source": [
        "df = pd.read_csv('train.csv')\n",
        "revealed_test = pd.read_csv('revealed_test.csv')\n",
        "months = df['first_day_of_month'].unique()"
      ],
      "metadata": {
        "id": "-IdlVW3jtKEL"
      },
      "execution_count": null,
      "outputs": []
    },
    {
      "cell_type": "code",
      "source": [
        "train = pd.concat([df, revealed_test])\n",
        "train"
      ],
      "metadata": {
        "colab": {
          "base_uri": "https://localhost:8080/",
          "height": 424
        },
        "id": "e6uZGsSROzWq",
        "outputId": "a45cb356-1b6a-4f5e-840d-d4f0ecc0e245"
      },
      "execution_count": null,
      "outputs": [
        {
          "output_type": "execute_result",
          "data": {
            "text/plain": [
              "                row_id  cfips           county    state first_day_of_month  \\\n",
              "0      1001_2019-08-01   1001   Autauga County  Alabama         2019-08-01   \n",
              "1      1001_2019-09-01   1001   Autauga County  Alabama         2019-09-01   \n",
              "2      1001_2019-10-01   1001   Autauga County  Alabama         2019-10-01   \n",
              "3      1001_2019-11-01   1001   Autauga County  Alabama         2019-11-01   \n",
              "4      1001_2019-12-01   1001   Autauga County  Alabama         2019-12-01   \n",
              "...                ...    ...              ...      ...                ...   \n",
              "6265  56041_2022-12-01  56041     Uinta County  Wyoming         2022-12-01   \n",
              "6266  56043_2022-11-01  56043  Washakie County  Wyoming         2022-11-01   \n",
              "6267  56043_2022-12-01  56043  Washakie County  Wyoming         2022-12-01   \n",
              "6268  56045_2022-11-01  56045    Weston County  Wyoming         2022-11-01   \n",
              "6269  56045_2022-12-01  56045    Weston County  Wyoming         2022-12-01   \n",
              "\n",
              "      microbusiness_density  active  \n",
              "0                  3.007682    1249  \n",
              "1                  2.884870    1198  \n",
              "2                  3.055843    1269  \n",
              "3                  2.993233    1243  \n",
              "4                  2.993233    1243  \n",
              "...                     ...     ...  \n",
              "6265               4.050703     588  \n",
              "6266               3.143093     190  \n",
              "6267               3.060380     185  \n",
              "6268               1.785395     100  \n",
              "6269               1.803249     101  \n",
              "\n",
              "[128535 rows x 7 columns]"
            ],
            "text/html": [
              "\n",
              "  <div id=\"df-313edb90-0ea1-4ef8-831d-ec03941c4004\">\n",
              "    <div class=\"colab-df-container\">\n",
              "      <div>\n",
              "<style scoped>\n",
              "    .dataframe tbody tr th:only-of-type {\n",
              "        vertical-align: middle;\n",
              "    }\n",
              "\n",
              "    .dataframe tbody tr th {\n",
              "        vertical-align: top;\n",
              "    }\n",
              "\n",
              "    .dataframe thead th {\n",
              "        text-align: right;\n",
              "    }\n",
              "</style>\n",
              "<table border=\"1\" class=\"dataframe\">\n",
              "  <thead>\n",
              "    <tr style=\"text-align: right;\">\n",
              "      <th></th>\n",
              "      <th>row_id</th>\n",
              "      <th>cfips</th>\n",
              "      <th>county</th>\n",
              "      <th>state</th>\n",
              "      <th>first_day_of_month</th>\n",
              "      <th>microbusiness_density</th>\n",
              "      <th>active</th>\n",
              "    </tr>\n",
              "  </thead>\n",
              "  <tbody>\n",
              "    <tr>\n",
              "      <th>0</th>\n",
              "      <td>1001_2019-08-01</td>\n",
              "      <td>1001</td>\n",
              "      <td>Autauga County</td>\n",
              "      <td>Alabama</td>\n",
              "      <td>2019-08-01</td>\n",
              "      <td>3.007682</td>\n",
              "      <td>1249</td>\n",
              "    </tr>\n",
              "    <tr>\n",
              "      <th>1</th>\n",
              "      <td>1001_2019-09-01</td>\n",
              "      <td>1001</td>\n",
              "      <td>Autauga County</td>\n",
              "      <td>Alabama</td>\n",
              "      <td>2019-09-01</td>\n",
              "      <td>2.884870</td>\n",
              "      <td>1198</td>\n",
              "    </tr>\n",
              "    <tr>\n",
              "      <th>2</th>\n",
              "      <td>1001_2019-10-01</td>\n",
              "      <td>1001</td>\n",
              "      <td>Autauga County</td>\n",
              "      <td>Alabama</td>\n",
              "      <td>2019-10-01</td>\n",
              "      <td>3.055843</td>\n",
              "      <td>1269</td>\n",
              "    </tr>\n",
              "    <tr>\n",
              "      <th>3</th>\n",
              "      <td>1001_2019-11-01</td>\n",
              "      <td>1001</td>\n",
              "      <td>Autauga County</td>\n",
              "      <td>Alabama</td>\n",
              "      <td>2019-11-01</td>\n",
              "      <td>2.993233</td>\n",
              "      <td>1243</td>\n",
              "    </tr>\n",
              "    <tr>\n",
              "      <th>4</th>\n",
              "      <td>1001_2019-12-01</td>\n",
              "      <td>1001</td>\n",
              "      <td>Autauga County</td>\n",
              "      <td>Alabama</td>\n",
              "      <td>2019-12-01</td>\n",
              "      <td>2.993233</td>\n",
              "      <td>1243</td>\n",
              "    </tr>\n",
              "    <tr>\n",
              "      <th>...</th>\n",
              "      <td>...</td>\n",
              "      <td>...</td>\n",
              "      <td>...</td>\n",
              "      <td>...</td>\n",
              "      <td>...</td>\n",
              "      <td>...</td>\n",
              "      <td>...</td>\n",
              "    </tr>\n",
              "    <tr>\n",
              "      <th>6265</th>\n",
              "      <td>56041_2022-12-01</td>\n",
              "      <td>56041</td>\n",
              "      <td>Uinta County</td>\n",
              "      <td>Wyoming</td>\n",
              "      <td>2022-12-01</td>\n",
              "      <td>4.050703</td>\n",
              "      <td>588</td>\n",
              "    </tr>\n",
              "    <tr>\n",
              "      <th>6266</th>\n",
              "      <td>56043_2022-11-01</td>\n",
              "      <td>56043</td>\n",
              "      <td>Washakie County</td>\n",
              "      <td>Wyoming</td>\n",
              "      <td>2022-11-01</td>\n",
              "      <td>3.143093</td>\n",
              "      <td>190</td>\n",
              "    </tr>\n",
              "    <tr>\n",
              "      <th>6267</th>\n",
              "      <td>56043_2022-12-01</td>\n",
              "      <td>56043</td>\n",
              "      <td>Washakie County</td>\n",
              "      <td>Wyoming</td>\n",
              "      <td>2022-12-01</td>\n",
              "      <td>3.060380</td>\n",
              "      <td>185</td>\n",
              "    </tr>\n",
              "    <tr>\n",
              "      <th>6268</th>\n",
              "      <td>56045_2022-11-01</td>\n",
              "      <td>56045</td>\n",
              "      <td>Weston County</td>\n",
              "      <td>Wyoming</td>\n",
              "      <td>2022-11-01</td>\n",
              "      <td>1.785395</td>\n",
              "      <td>100</td>\n",
              "    </tr>\n",
              "    <tr>\n",
              "      <th>6269</th>\n",
              "      <td>56045_2022-12-01</td>\n",
              "      <td>56045</td>\n",
              "      <td>Weston County</td>\n",
              "      <td>Wyoming</td>\n",
              "      <td>2022-12-01</td>\n",
              "      <td>1.803249</td>\n",
              "      <td>101</td>\n",
              "    </tr>\n",
              "  </tbody>\n",
              "</table>\n",
              "<p>128535 rows × 7 columns</p>\n",
              "</div>\n",
              "      <button class=\"colab-df-convert\" onclick=\"convertToInteractive('df-313edb90-0ea1-4ef8-831d-ec03941c4004')\"\n",
              "              title=\"Convert this dataframe to an interactive table.\"\n",
              "              style=\"display:none;\">\n",
              "        \n",
              "  <svg xmlns=\"http://www.w3.org/2000/svg\" height=\"24px\"viewBox=\"0 0 24 24\"\n",
              "       width=\"24px\">\n",
              "    <path d=\"M0 0h24v24H0V0z\" fill=\"none\"/>\n",
              "    <path d=\"M18.56 5.44l.94 2.06.94-2.06 2.06-.94-2.06-.94-.94-2.06-.94 2.06-2.06.94zm-11 1L8.5 8.5l.94-2.06 2.06-.94-2.06-.94L8.5 2.5l-.94 2.06-2.06.94zm10 10l.94 2.06.94-2.06 2.06-.94-2.06-.94-.94-2.06-.94 2.06-2.06.94z\"/><path d=\"M17.41 7.96l-1.37-1.37c-.4-.4-.92-.59-1.43-.59-.52 0-1.04.2-1.43.59L10.3 9.45l-7.72 7.72c-.78.78-.78 2.05 0 2.83L4 21.41c.39.39.9.59 1.41.59.51 0 1.02-.2 1.41-.59l7.78-7.78 2.81-2.81c.8-.78.8-2.07 0-2.86zM5.41 20L4 18.59l7.72-7.72 1.47 1.35L5.41 20z\"/>\n",
              "  </svg>\n",
              "      </button>\n",
              "      \n",
              "  <style>\n",
              "    .colab-df-container {\n",
              "      display:flex;\n",
              "      flex-wrap:wrap;\n",
              "      gap: 12px;\n",
              "    }\n",
              "\n",
              "    .colab-df-convert {\n",
              "      background-color: #E8F0FE;\n",
              "      border: none;\n",
              "      border-radius: 50%;\n",
              "      cursor: pointer;\n",
              "      display: none;\n",
              "      fill: #1967D2;\n",
              "      height: 32px;\n",
              "      padding: 0 0 0 0;\n",
              "      width: 32px;\n",
              "    }\n",
              "\n",
              "    .colab-df-convert:hover {\n",
              "      background-color: #E2EBFA;\n",
              "      box-shadow: 0px 1px 2px rgba(60, 64, 67, 0.3), 0px 1px 3px 1px rgba(60, 64, 67, 0.15);\n",
              "      fill: #174EA6;\n",
              "    }\n",
              "\n",
              "    [theme=dark] .colab-df-convert {\n",
              "      background-color: #3B4455;\n",
              "      fill: #D2E3FC;\n",
              "    }\n",
              "\n",
              "    [theme=dark] .colab-df-convert:hover {\n",
              "      background-color: #434B5C;\n",
              "      box-shadow: 0px 1px 3px 1px rgba(0, 0, 0, 0.15);\n",
              "      filter: drop-shadow(0px 1px 2px rgba(0, 0, 0, 0.3));\n",
              "      fill: #FFFFFF;\n",
              "    }\n",
              "  </style>\n",
              "\n",
              "      <script>\n",
              "        const buttonEl =\n",
              "          document.querySelector('#df-313edb90-0ea1-4ef8-831d-ec03941c4004 button.colab-df-convert');\n",
              "        buttonEl.style.display =\n",
              "          google.colab.kernel.accessAllowed ? 'block' : 'none';\n",
              "\n",
              "        async function convertToInteractive(key) {\n",
              "          const element = document.querySelector('#df-313edb90-0ea1-4ef8-831d-ec03941c4004');\n",
              "          const dataTable =\n",
              "            await google.colab.kernel.invokeFunction('convertToInteractive',\n",
              "                                                     [key], {});\n",
              "          if (!dataTable) return;\n",
              "\n",
              "          const docLinkHtml = 'Like what you see? Visit the ' +\n",
              "            '<a target=\"_blank\" href=https://colab.research.google.com/notebooks/data_table.ipynb>data table notebook</a>'\n",
              "            + ' to learn more about interactive tables.';\n",
              "          element.innerHTML = '';\n",
              "          dataTable['output_type'] = 'display_data';\n",
              "          await google.colab.output.renderOutput(dataTable, element);\n",
              "          const docLink = document.createElement('div');\n",
              "          docLink.innerHTML = docLinkHtml;\n",
              "          element.appendChild(docLink);\n",
              "        }\n",
              "      </script>\n",
              "    </div>\n",
              "  </div>\n",
              "  "
            ]
          },
          "metadata": {},
          "execution_count": 89
        }
      ]
    },
    {
      "cell_type": "code",
      "source": [
        "# ----- 1. detect abnormal changes -----\n",
        "lag = 1\n",
        "Anomaly_TH = 0.2\n",
        "\n",
        "train[\"dcount\"] = train.groupby(['cfips'])['row_id'].cumcount()\n",
        "\n",
        "train[f'mbd_lag_{lag}'] = train.groupby('cfips')['microbusiness_density'].shift(lag).bfill()\n",
        "\n",
        "train['dif'] = (train['microbusiness_density'] / train[f'mbd_lag_{lag}']).fillna(1).clip(0, None) - 1\n",
        "\n",
        "train.loc[(train[f'mbd_lag_{lag}']==0), 'dif'] = 0\n",
        "train.loc[(train[f'microbusiness_density']>0) & (train[f'mbd_lag_{lag}']==0), 'dif'] = 1  \n",
        "train['dif'] = train['dif'].abs()\n",
        "\n",
        "train.groupby('dcount')['dif'].sum().plot()\n",
        "\n",
        "# ----- 2. Smooth and outlier correction -----\n",
        "outliers = []   # record which cfips has outliers\n",
        "cnt = 0         # the tot num of outliers\n",
        "\n",
        "for o in tqdm(train.cfips.unique()):     # each cfips\n",
        "\n",
        "    indices = (train['cfips']==o)        # get all the idx for that cfips\n",
        "    tmp = train.loc[indices].copy().reset_index(drop=True)   # get all the rows for the cfips, reset_index make each tmp index from zero\n",
        "    var = tmp.microbusiness_density.values.copy()          # copy density data for the current cfips\n",
        "    #vmax = np.max(var[:38]) - np.min(var[:38])\n",
        "\n",
        "    # TODO\n",
        "    for i in range(40, 1, -1):         # original: range(37, 2, -1) -> idx 37 ~ 3. Note: 0 ~ 38 is training data\n",
        "                                        # why not consider 38? 2?  # i think you can even set it to 0\n",
        "        thr = Anomaly_TH * np.mean(var[:i])    # use 20% average of the points before current point i as the anomaly value TH\n",
        "        difa = abs(var[i] - var[i-1])      # if the current point i's increase is bigger than thr, we consider it as a anomaly change, not natural trend\n",
        "        if (difa >= thr):                  # so we 'lift' all the previous values to the same 'stage' of the current point\n",
        "            var[:i] *= (var[i] / var[i-1])\n",
        "\n",
        "            outliers.append(o)         # save which cfips has outliers\n",
        "            cnt+=1                     # total count\n",
        "\n",
        "    # why not set the above for loop as range(37,0,-1)? so we don't need the line below\n",
        "    var[0] = var[1]*0.99               # why do this hard code 0.99? make the first -> second unchanged almost? \n",
        "\n",
        "    train.loc[indices, 'microbusiness_density'] = var  # the smoothed density\n",
        "\n",
        "outliers = np.unique(outliers)\n",
        "\n",
        "print(f'------------------------------')\n",
        "print(f'there are {len(outliers)} county have {cnt} outliners in total.')\n",
        "print(f'------------------------------')\n",
        "\n",
        "# ----- 3. After smooth plot -----\n",
        "train[f'mbd_lag_{lag}'] = train.groupby('cfips')['microbusiness_density'].shift(lag).bfill()\n",
        "train['dif'] = (train['microbusiness_density'] / train[f'mbd_lag_{lag}']).fillna(1).clip(0, None) - 1\n",
        "train.loc[(train[f'mbd_lag_{lag}']==0), 'dif'] = 0\n",
        "train.loc[(train[f'microbusiness_density']>0) & (train[f'mbd_lag_{lag}']==0), 'dif'] = 1\n",
        "train['dif'] = train['dif'].abs()\n",
        "\n",
        "print('The sum of the sudden more-than-{Anomaly_TH*100}% increase or decrease between t and t-1 BEFORE and AFTER SMOOTH -----')\n",
        "train.groupby('dcount')['dif'].sum().plot()\n",
        "\n",
        "# ----- 4. Delete intermedite column\n",
        "train = train.drop(['dcount','mbd_lag_1','dif'], axis=1)"
      ],
      "metadata": {
        "colab": {
          "base_uri": "https://localhost:8080/",
          "height": 708
        },
        "id": "gooOVkiTOMWY",
        "outputId": "4413a48a-58c2-4197-cf4c-a1a7a7432352"
      },
      "execution_count": null,
      "outputs": [
        {
          "output_type": "stream",
          "name": "stderr",
          "text": [
            " 45%|████▌     | 1426/3135 [00:03<00:05, 312.02it/s]<ipython-input-90-09bb3d51741c>:34: RuntimeWarning: divide by zero encountered in double_scalars\n",
            "  var[:i] *= (var[i] / var[i-1])\n",
            "<ipython-input-90-09bb3d51741c>:34: RuntimeWarning: invalid value encountered in multiply\n",
            "  var[:i] *= (var[i] / var[i-1])\n",
            "<ipython-input-90-09bb3d51741c>:32: RuntimeWarning: invalid value encountered in double_scalars\n",
            "  difa = abs(var[i] - var[i-1])      # if the current point i's increase is bigger than thr, we consider it as a anomaly change, not natural trend\n",
            "100%|██████████| 3135/3135 [00:08<00:00, 388.28it/s]\n"
          ]
        },
        {
          "output_type": "stream",
          "name": "stdout",
          "text": [
            "------------------------------\n",
            "there are 511 county have 815 outliners in total.\n",
            "------------------------------\n",
            "The sum of the sudden more-than-{Anomaly_TH*100}% increase or decrease between t and t-1 BEFORE and AFTER SMOOTH -----\n"
          ]
        },
        {
          "output_type": "display_data",
          "data": {
            "text/plain": [
              "<Figure size 720x576 with 1 Axes>"
            ],
            "image/png": "[encoded data removed]"
          },
          "metadata": {
            "needs_background": "light"
          }
        }
      ]
    },
    {
      "cell_type": "code",
      "source": [
        "# from math import sqrt\n",
        "\n",
        "# df['density_lag'] = df.groupby('cfips')['microbusiness_density'].transform(lambda x: x.shift(1))\n",
        "# df['density_lead'] = df.groupby('cfips')['microbusiness_density'].transform(lambda x: x.shift(-1))\n",
        "# df = df[df['first_day_of_month'] > '2019-09-01']\n",
        "# df = df.reset_index(drop = True)\n",
        "\n",
        "# def robust_std(values):\n",
        "#     median = values.median()\n",
        "#     return sqrt(sum((values - median) ** 2) / len(values))\n",
        "\n",
        "\n",
        "# df['rolling_median_3'] = df.groupby('cfips')['density_lag'].transform(lambda x: x.rolling(3, 1).median())\n",
        "# df['rolling_std_3'] = df.groupby('cfips')['density_lag'].transform(lambda x: x.rolling(3, 1).apply(robust_std))\n",
        "\n",
        "# df['rolling_median_5'] = df.groupby('cfips')['density_lag'].transform(lambda x: x.rolling(5, 1).median())\n",
        "# df['rolling_std_5'] = df.groupby('cfips')['density_lag'].transform(lambda x: x.rolling(5, 1).apply(robust_std))\n",
        "\n",
        "# df['rolling_median_8'] = df.groupby('cfips')['density_lag'].transform(lambda x: x.rolling(8, 1).median())\n",
        "# df['rolling_std_8'] = df.groupby('cfips')['density_lag'].transform(lambda x: x.rolling(8, 1).apply(robust_std))\n",
        "\n",
        "# df['up_limit_3'] = df['rolling_median_3'] + 3 * df['rolling_std_3']\n",
        "# df['down_limit_3'] = df['rolling_median_3'] - 3 * df['rolling_std_3']\n",
        "\n",
        "# df['up_limit_5'] = df['rolling_median_5'] + 3 * df['rolling_std_5']\n",
        "# df['down_limit_5'] = df['rolling_median_5'] - 3 * df['rolling_std_5']\n",
        "\n",
        "# df['up_limit_8'] = df['rolling_median_8'] + 3 * df['rolling_std_8']\n",
        "# df['down_limit_8'] = df['rolling_median_8'] - 3 * df['rolling_std_8']\n",
        "\n",
        "# df['outlier_3'] = df.apply(lambda x: 0 if x['up_limit_3'] >= x['microbusiness_density'] >= x['down_limit_3'] else 1, axis = 1)\n",
        "# df['outlier_5'] = df.apply(lambda x: 0 if x['up_limit_5'] >= x['microbusiness_density'] >= x['down_limit_5'] else 1, axis = 1)\n",
        "# df['outlier_8'] = df.apply(lambda x: 0 if x['up_limit_8'] >= x['microbusiness_density'] >= x['down_limit_8'] else 1, axis = 1)\n",
        "\n",
        "# all_outliers = df[(df['outlier_3'] == 1) & (df['outlier_5'] == 1) & (df['outlier_8'] == 1)]\n",
        "# all_outliers = all_outliers.reset_index(drop = True)\n",
        "# max_outlier = all_outliers.groupby('cfips').agg({'first_day_of_month': 'max', 'county': 'count'}).reset_index()\n",
        "# max_outlier.columns = ['cfips', 'last_outlier', 'number_of_outliers']\n",
        "# max_outlier['number_of_outliers'].describe()"
      ],
      "metadata": {
        "id": "xcZoZMw-BH2r"
      },
      "execution_count": null,
      "outputs": []
    },
    {
      "cell_type": "code",
      "source": [
        "# df.loc[df['first_day_of_month'].isin(['2020-02-01', '2021-02-01', '2022-07-01']), 'microbusiness_density'] = (df['density_lag'] + df['density_lead'])/2"
      ],
      "metadata": {
        "id": "_AIc0DHNCBQy"
      },
      "execution_count": null,
      "outputs": []
    },
    {
      "cell_type": "code",
      "source": [
        "# class TrainDataset(Dataset):\n",
        "\n",
        "#     def __init__(self, data, subset_cfips = None, period = 24):\n",
        "#         super(TrainDataset, self).__init__()\n",
        "\n",
        "#         data[data['cfips'].isin(subset_cfips)]\n",
        "#         data = data.iloc[:, 0:25]\n",
        "#         X = []\n",
        "#         Y = []\n",
        "\n",
        "#         for index, row in data.iterrows():\n",
        "#             X.append(row.values[:-1])\n",
        "#             Y.append([row.values[-1]])\n",
        "\n",
        "#         self.length = len(Y)\n",
        "#         self.X = X\n",
        "#         self.Y = Y\n",
        "\n",
        "#     def __len__(self):\n",
        "#         return self.length\n",
        "\n",
        "#     def __getitem__(self, index):\n",
        "#         x = torch.Tensor(self.X[index])\n",
        "#         y = torch.Tensor(self.Y[index])\n",
        "#         return x, y\n"
      ],
      "metadata": {
        "id": "EKCz5fvS1JpS"
      },
      "execution_count": null,
      "outputs": []
    },
    {
      "cell_type": "code",
      "source": [
        "class TrainDataset(Dataset):\n",
        "\n",
        "    def __init__(self, data, subset_cfips = None, split = 'train', period = 25, pred_period = 1):\n",
        "        super(TrainDataset, self).__init__()\n",
        "\n",
        "        data = data.loc[:, ['cfips', 'first_day_of_month', 'microbusiness_density']]\n",
        "        data[data['cfips'].isin(subset_cfips)]\n",
        "        months = np.sort(data['first_day_of_month'].unique())\n",
        "        X = []\n",
        "        Y = []\n",
        "\n",
        "        for i in subset_cfips:\n",
        "            temp = df[df['cfips'] == i]\n",
        "            temp = temp.reset_index(drop = True)\n",
        "            temp['first_day_of_month'] = pd.to_datetime(temp['first_day_of_month'])\n",
        "            temp.sort_values('first_day_of_month', inplace = True)\n",
        "            temp = temp.reset_index(drop = True)\n",
        "\n",
        "            sub_seq_all = [] \n",
        "            for sub_seq_start in range(len(temp) - period + 1):    # the start idx for each sub seq\n",
        "                sub_seq_end = sub_seq_start + period - 1          # the end idx for each sub seq, include train(24) + public(1) + private(3)\n",
        "                sub_seq = temp.loc[sub_seq_start: sub_seq_end, 'microbusiness_density'].reset_index(drop = True)  # note: reset_index is a must before pd.concat\n",
        "                sub_seq_all.append(sub_seq)\n",
        "            sub_seq_all = pd.concat(sub_seq_all, axis=1).transpose()\n",
        "            \n",
        "            X.append(sub_seq_all)\n",
        "\n",
        "        \n",
        "            \n",
        "        X = np.array(X)\n",
        "        X = X.reshape(-1, 25)\n",
        "\n",
        "        self.X = X[:, 0:24]\n",
        "        self.Y = X[:, -1]\n",
        "        self.Y = self.Y.reshape(-1,1)\n",
        "        print(self.X.shape)\n",
        "        print(self.Y.shape)\n",
        "\n",
        "        self.length = len(self.Y)\n",
        "\n",
        "    def __len__(self):\n",
        "        return self.length\n",
        "\n",
        "    def __getitem__(self, index):\n",
        "        x = torch.Tensor(self.X[index])\n",
        "        y = torch.Tensor(self.Y[index])\n",
        "        return x, y\n"
      ],
      "metadata": {
        "id": "4wqIyImZsOvF"
      },
      "execution_count": null,
      "outputs": []
    },
    {
      "cell_type": "code",
      "source": [
        "train['population'] = 100 * train['active'] / train['microbusiness_density']\n",
        "population = train.groupby('cfips').agg({'population': 'median'}).reset_index()\n",
        "population.sort_values('population', inplace = True, ascending = False)\n",
        "population = population.reset_index(drop = True)"
      ],
      "metadata": {
        "id": "8U65UK1uAWGt"
      },
      "execution_count": null,
      "outputs": []
    },
    {
      "cell_type": "code",
      "source": [
        "training_cfips = list(set(population.loc[0:int(len(population)/2), 'cfips']))\n",
        "\n",
        "print(len(training_cfips))\n",
        "train_cfips = np.random.choice(training_cfips, int(0.8 * len(training_cfips)), replace = False)\n",
        "train_dataset = TrainDataset(train, train_cfips, 'train')\n",
        "\n",
        "validation_cfips = list(set(training_cfips) - set(train_cfips))\n",
        "val_dataset = TrainDataset(train, validation_cfips, 'validation')"
      ],
      "metadata": {
        "id": "w6mRg81ZsniQ",
        "colab": {
          "base_uri": "https://localhost:8080/"
        },
        "outputId": "9065f3da-9a21-4d4b-84ce-e846bd5ccbf2"
      },
      "execution_count": null,
      "outputs": [
        {
          "output_type": "stream",
          "name": "stdout",
          "text": [
            "1568\n",
            "(18810, 24)\n",
            "(18810, 1)\n",
            "(4710, 24)\n",
            "(4710, 1)\n"
          ]
        }
      ]
    },
    {
      "cell_type": "code",
      "source": [
        "set(train_cfips).intersection(set(validation_cfips))"
      ],
      "metadata": {
        "colab": {
          "base_uri": "https://localhost:8080/"
        },
        "id": "x0KyDfL7UleT",
        "outputId": "51552542-14dd-47b1-8aff-6bdfcfbf1b21"
      },
      "execution_count": null,
      "outputs": [
        {
          "output_type": "execute_result",
          "data": {
            "text/plain": [
              "set()"
            ]
          },
          "metadata": {},
          "execution_count": 126
        }
      ]
    },
    {
      "cell_type": "code",
      "source": [
        "set(training_cfips) - set(train_cfips).union(set(validation_cfips))"
      ],
      "metadata": {
        "colab": {
          "base_uri": "https://localhost:8080/"
        },
        "id": "iQSx-XPHUpfb",
        "outputId": "2519ce28-5371-41ae-82d3-7a0adebb13d1"
      },
      "execution_count": null,
      "outputs": [
        {
          "output_type": "execute_result",
          "data": {
            "text/plain": [
              "set()"
            ]
          },
          "metadata": {},
          "execution_count": 127
        }
      ]
    },
    {
      "cell_type": "code",
      "source": [
        "# train_cfips = np.random.choice(cfips_LSTM, int(0.8 * len(cfips_LSTM)), replace = False)\n",
        "# train_dataset = TrainDataset(train_seq_LSTM, train_cfips)\n",
        "\n",
        "# validation_cfips = list(set(cfips_LSTM) - set(train_cfips))\n",
        "# val_dataset = TrainDataset(train_seq_LSTM, validation_cfips)\n",
        "\n",
        "# train_dataloader = DataLoader(train_dataset, shuffle = False, batch_size = config['BATCH_SIZE'])\n",
        "# val_dataloader = DataLoader(val_dataset, shuffle = False, batch_size = config['BATCH_SIZE'])"
      ],
      "metadata": {
        "id": "KEry6b2B20Iy"
      },
      "execution_count": null,
      "outputs": []
    },
    {
      "cell_type": "code",
      "source": [
        "# # get the cfips ranked by population\n",
        "# cfips_population_decending = train_seq_all.groupby(['cfips'])['population_average'].mean().sort_values(ascending=False).reset_index().cfips\n",
        "# # we use the top 50% cfips to train LSTM\n",
        "# cfips_LSTM = cfips_population_decending[0: int(3135/2)]\n",
        "\n",
        "# # get train data for LSTM. we only use BIG population cfips\n",
        "# train_seq_LSTM = train_seq_all.loc[train_seq_all['cfips'].isin(cfips_LSTM), :]\n",
        "\n",
        "# # get the cfips not used for LSTM TRAINING\n",
        "# cfips_not_used = list(set(train.cfips.unique()).difference(cfips_LSTM))\n",
        "\n",
        "# cfips_LSTM = clean_cfips\n",
        "# train_seq_LSTM = train_seq_all.loc[train_seq_all['cfips'].isin(cfips_LSTM), :]\n",
        "# # print\n",
        "# print(f'There are {len(cfips_LSTM)} county used for LSTM training, {len(cfips_not_used)} for last value filling, total county is {len(cfips_LSTM)+len(cfips_not_used)}.')"
      ],
      "metadata": {
        "id": "1p2rukYFvaKz"
      },
      "execution_count": null,
      "outputs": []
    },
    {
      "cell_type": "code",
      "source": [
        "# x = np.array(train_seq_LSTM.loc[:, 0:23])\n",
        "# y = np.array(train_seq_LSTM.loc[:, 'Public_target'])\n",
        "# groups = np.array(train_seq_LSTM.loc[:, 'cfips'])\n",
        "\n",
        "# print(f'{x.shape}, {y.shape}, {groups.shape}')"
      ],
      "metadata": {
        "id": "fqHaeTrsvoS3"
      },
      "execution_count": null,
      "outputs": []
    },
    {
      "cell_type": "code",
      "source": [
        "config = {\n",
        "    'BATCH_SIZE' : 256,\n",
        "    'epochs': 150,\n",
        "    'lr': 1e-4\n",
        "}\n",
        "\n",
        "train_dataloader = DataLoader(train_dataset, shuffle = True, batch_size = config['BATCH_SIZE'])\n",
        "val_dataloader = DataLoader(val_dataset, shuffle = False, batch_size = config['BATCH_SIZE'])\n",
        "\n",
        "for i, data in enumerate(train_dataloader):\n",
        "    x, y = data\n",
        "    break"
      ],
      "metadata": {
        "id": "qHlZHshVRI9j"
      },
      "execution_count": null,
      "outputs": []
    },
    {
      "cell_type": "code",
      "source": [],
      "metadata": {
        "id": "aCLtxuoOYQ5W"
      },
      "execution_count": null,
      "outputs": []
    },
    {
      "cell_type": "code",
      "source": [
        "class Network(nn.Module):\n",
        "\n",
        "    def __init__(self):\n",
        "        super(Network, self).__init__()\n",
        "        self.conv = nn.Conv1d(in_channels = 24, out_channels = 64, kernel_size = 3, padding = 'same')\n",
        "        # self.activation = nn.LeakyReLU()\n",
        "        self.gru = nn.GRU(input_size = 64, hidden_size = 128, batch_first = True, num_layers = 1)\n",
        "        self.linear = nn.Linear(128, 1)\n",
        "\n",
        "\n",
        "    def forward(self, x):\n",
        "\n",
        "        output = torch.unsqueeze(x, 2)\n",
        "        output = self.conv(output)\n",
        "        output = torch.squeeze(output, 2)\n",
        "        # output = self.activation(output)\n",
        "        output, _ = self.gru(output)\n",
        "        output = self.linear(output)\n",
        "        return output"
      ],
      "metadata": {
        "id": "avkovLkgwyQH"
      },
      "execution_count": null,
      "outputs": []
    },
    {
      "cell_type": "code",
      "source": [],
      "metadata": {
        "id": "nC76ghhMYgVE"
      },
      "execution_count": null,
      "outputs": []
    },
    {
      "cell_type": "code",
      "source": [
        "# h0 is basically the initial state of the gru"
      ],
      "metadata": {
        "id": "aEljWYIrZrCV"
      },
      "execution_count": null,
      "outputs": []
    },
    {
      "cell_type": "code",
      "source": [
        "model = Network()\n",
        "model = model.to(device)\n",
        "criterion = nn.MSELoss()\n",
        "optimizer = torch.optim.Adam(model.parameters(), lr = config['lr'])\n",
        "scheduler = torch.optim.lr_scheduler.CosineAnnealingLR(optimizer, config['epochs'],eta_min = 1e-6)"
      ],
      "metadata": {
        "id": "Nqrrc3Ou7W0A"
      },
      "execution_count": null,
      "outputs": []
    },
    {
      "cell_type": "code",
      "source": [
        "\n",
        "# gkf = GroupKFold(n_splits=5)\n",
        "\n",
        "# validation_pred_y_all = []  # predictions of the validation data for all the folds\n",
        "# validation_y_all = [] \n",
        "\n",
        "# for train_idx, validation_idx in gkf.split(x, y, groups=groups):\n",
        "#     train_x = x[train_idx, :]\n",
        "#     train_y = y[train_idx]\n",
        "#     validation_x = x[validation_idx, :]\n",
        "#     validation_y = y[validation_idx]\n",
        "\n",
        "\n",
        "#     model.train()\n",
        "\n",
        "\n"
      ],
      "metadata": {
        "id": "b4suh_kxv0o6"
      },
      "execution_count": null,
      "outputs": []
    },
    {
      "cell_type": "code",
      "source": [
        "def train_step(epoch):\n",
        "\n",
        "    batch_bar = tqdm(total=len(train_dataloader), dynamic_ncols=True, position=0, leave=False, desc='Train')\n",
        "\n",
        "    total_loss = 0\n",
        "\n",
        "    all_output = np.array([])\n",
        "    all_target = np.array([])\n",
        "    for i, data in enumerate(train_dataloader):\n",
        "        model.train()\n",
        "\n",
        "        x, y = data\n",
        "        x = x.to(device)\n",
        "        y = y.to(device) \n",
        "\n",
        "        output = model(x)\n",
        "\n",
        "        loss = criterion(output, y)\n",
        "        loss.backward()\n",
        "        \n",
        "        optimizer.step()\n",
        "\n",
        "        total_loss += loss.item()\n",
        "\n",
        "        output = torch.squeeze(output.reshape(-1,1)).detach().cpu().numpy()\n",
        "        y = torch.squeeze(y.reshape(-1,1)).detach().cpu().numpy()\n",
        "\n",
        "        all_output = np.concatenate((all_output, output))\n",
        "        all_target = np.concatenate((all_target, y))\n",
        "\n",
        "        batch_bar.set_postfix(\n",
        "            loss=\"{:.04f}\".format(loss.item()))\n",
        "        batch_bar.update()\n",
        "\n",
        "    total_smape = smape(all_target, all_output)\n",
        "    return total_loss / len(train_dataloader), total_smape\n",
        "\n",
        "\n",
        "def val():\n",
        "    model.eval()\n",
        "\n",
        "    batch_bar = tqdm(total=len(val_dataloader), dynamic_ncols=True, position=0, leave=False, desc='Val')\n",
        "    total_loss = 0\n",
        "\n",
        "    all_output = np.array([])\n",
        "    all_target = np.array([])\n",
        "\n",
        "    for i, data in enumerate(val_dataloader):\n",
        "        with torch.no_grad():\n",
        "            \n",
        "            x, y = data\n",
        "            x = x.to(device)\n",
        "            y = y.to(device)\n",
        "\n",
        "            output = model(x)\n",
        "            loss = criterion(output, y)\n",
        "            total_loss += loss.item()\n",
        "\n",
        "            output = torch.squeeze(output.reshape(-1,1)).detach().cpu().numpy()\n",
        "            y = torch.squeeze(y.reshape(-1,1)).detach().cpu().numpy()\n",
        "\n",
        "            all_output = np.concatenate((all_output, output))\n",
        "            all_target = np.concatenate((all_target, y))\n",
        "\n",
        "            batch_bar.set_postfix(\n",
        "                loss=\"{:2f}\".format(loss)\n",
        "            )\n",
        "\n",
        "            batch_bar.update()\n",
        "\n",
        "    total_smape = smape(all_target, all_output)\n",
        "\n",
        "    return total_loss / len(val_dataloader), total_smape"
      ],
      "metadata": {
        "id": "EHWzA0470noM"
      },
      "execution_count": null,
      "outputs": []
    },
    {
      "cell_type": "code",
      "source": [
        "for i in range(1, config['epochs']+1):\n",
        "\n",
        "    train_loss, train_smape = train_step(i)\n",
        "    scheduler.step()\n",
        "    if i%10 == 0:\n",
        "\n",
        "        val_loss, val_smape = val()\n",
        "        print(f\"Epoch: {i}\")\n",
        "        \n",
        "        print(f\"Train_loss: {train_loss}\")\n",
        "        print(f\"Train SMAPE: {train_smape}\")\n",
        "\n",
        "        print(f\"Validation Loss: {val_loss}\")\n",
        "        print(f\"Validation SMAPE: {val_smape}\")\n",
        "\n",
        "        print()\n",
        "        print()"
      ],
      "metadata": {
        "colab": {
          "base_uri": "https://localhost:8080/",
          "height": 398
        },
        "id": "yWimPyMM2aUF",
        "outputId": "8cb0e645-2298-4b9a-b1dc-c2ee1e781e4f"
      },
      "execution_count": null,
      "outputs": [
        {
          "output_type": "stream",
          "name": "stderr",
          "text": [
            "\rTrain:   0%|          | 0/74 [00:00<?, ?it/s]"
          ]
        },
        {
          "output_type": "error",
          "ename": "IndexError",
          "evalue": "ignored",
          "traceback": [
            "\u001b[0;31m---------------------------------------------------------------------------\u001b[0m",
            "\u001b[0;31mIndexError\u001b[0m                                Traceback (most recent call last)",
            "\u001b[0;32m<ipython-input-162-9905f639b254>\u001b[0m in \u001b[0;36m<module>\u001b[0;34m\u001b[0m\n\u001b[1;32m      1\u001b[0m \u001b[0;32mfor\u001b[0m \u001b[0mi\u001b[0m \u001b[0;32min\u001b[0m \u001b[0mrange\u001b[0m\u001b[0;34m(\u001b[0m\u001b[0;36m1\u001b[0m\u001b[0;34m,\u001b[0m \u001b[0mconfig\u001b[0m\u001b[0;34m[\u001b[0m\u001b[0;34m'epochs'\u001b[0m\u001b[0;34m]\u001b[0m\u001b[0;34m+\u001b[0m\u001b[0;36m1\u001b[0m\u001b[0;34m)\u001b[0m\u001b[0;34m:\u001b[0m\u001b[0;34m\u001b[0m\u001b[0;34m\u001b[0m\u001b[0m\n\u001b[1;32m      2\u001b[0m \u001b[0;34m\u001b[0m\u001b[0m\n\u001b[0;32m----> 3\u001b[0;31m     \u001b[0mtrain_loss\u001b[0m\u001b[0;34m,\u001b[0m \u001b[0mtrain_smape\u001b[0m \u001b[0;34m=\u001b[0m \u001b[0mtrain_step\u001b[0m\u001b[0;34m(\u001b[0m\u001b[0mi\u001b[0m\u001b[0;34m)\u001b[0m\u001b[0;34m\u001b[0m\u001b[0;34m\u001b[0m\u001b[0m\n\u001b[0m\u001b[1;32m      4\u001b[0m     \u001b[0mscheduler\u001b[0m\u001b[0;34m.\u001b[0m\u001b[0mstep\u001b[0m\u001b[0;34m(\u001b[0m\u001b[0;34m)\u001b[0m\u001b[0;34m\u001b[0m\u001b[0;34m\u001b[0m\u001b[0m\n\u001b[1;32m      5\u001b[0m     \u001b[0;32mif\u001b[0m \u001b[0mi\u001b[0m\u001b[0;34m%\u001b[0m\u001b[0;36m10\u001b[0m \u001b[0;34m==\u001b[0m \u001b[0;36m0\u001b[0m\u001b[0;34m:\u001b[0m\u001b[0;34m\u001b[0m\u001b[0;34m\u001b[0m\u001b[0m\n",
            "\u001b[0;32m<ipython-input-151-adde18474860>\u001b[0m in \u001b[0;36mtrain_step\u001b[0;34m(epoch)\u001b[0m\n\u001b[1;32m     14\u001b[0m         \u001b[0my\u001b[0m \u001b[0;34m=\u001b[0m \u001b[0my\u001b[0m\u001b[0;34m.\u001b[0m\u001b[0mto\u001b[0m\u001b[0;34m(\u001b[0m\u001b[0mdevice\u001b[0m\u001b[0;34m)\u001b[0m\u001b[0;34m\u001b[0m\u001b[0;34m\u001b[0m\u001b[0m\n\u001b[1;32m     15\u001b[0m \u001b[0;34m\u001b[0m\u001b[0m\n\u001b[0;32m---> 16\u001b[0;31m         \u001b[0moutput\u001b[0m \u001b[0;34m=\u001b[0m \u001b[0mmodel\u001b[0m\u001b[0;34m(\u001b[0m\u001b[0mx\u001b[0m\u001b[0;34m)\u001b[0m\u001b[0;34m\u001b[0m\u001b[0;34m\u001b[0m\u001b[0m\n\u001b[0m\u001b[1;32m     17\u001b[0m \u001b[0;34m\u001b[0m\u001b[0m\n\u001b[1;32m     18\u001b[0m         \u001b[0mloss\u001b[0m \u001b[0;34m=\u001b[0m \u001b[0mcriterion\u001b[0m\u001b[0;34m(\u001b[0m\u001b[0moutput\u001b[0m\u001b[0;34m,\u001b[0m \u001b[0my\u001b[0m\u001b[0;34m)\u001b[0m\u001b[0;34m\u001b[0m\u001b[0;34m\u001b[0m\u001b[0m\n",
            "\u001b[0;32m/usr/local/lib/python3.8/dist-packages/torch/nn/modules/module.py\u001b[0m in \u001b[0;36m_call_impl\u001b[0;34m(self, *input, **kwargs)\u001b[0m\n\u001b[1;32m   1192\u001b[0m         if not (self._backward_hooks or self._forward_hooks or self._forward_pre_hooks or _global_backward_hooks\n\u001b[1;32m   1193\u001b[0m                 or _global_forward_hooks or _global_forward_pre_hooks):\n\u001b[0;32m-> 1194\u001b[0;31m             \u001b[0;32mreturn\u001b[0m \u001b[0mforward_call\u001b[0m\u001b[0;34m(\u001b[0m\u001b[0;34m*\u001b[0m\u001b[0minput\u001b[0m\u001b[0;34m,\u001b[0m \u001b[0;34m**\u001b[0m\u001b[0mkwargs\u001b[0m\u001b[0;34m)\u001b[0m\u001b[0;34m\u001b[0m\u001b[0;34m\u001b[0m\u001b[0m\n\u001b[0m\u001b[1;32m   1195\u001b[0m         \u001b[0;31m# Do not call functions when jit is used\u001b[0m\u001b[0;34m\u001b[0m\u001b[0;34m\u001b[0m\u001b[0;34m\u001b[0m\u001b[0m\n\u001b[1;32m   1196\u001b[0m         \u001b[0mfull_backward_hooks\u001b[0m\u001b[0;34m,\u001b[0m \u001b[0mnon_full_backward_hooks\u001b[0m \u001b[0;34m=\u001b[0m \u001b[0;34m[\u001b[0m\u001b[0;34m]\u001b[0m\u001b[0;34m,\u001b[0m \u001b[0;34m[\u001b[0m\u001b[0;34m]\u001b[0m\u001b[0;34m\u001b[0m\u001b[0;34m\u001b[0m\u001b[0m\n",
            "\u001b[0;32m<ipython-input-160-fb73ad2b523a>\u001b[0m in \u001b[0;36mforward\u001b[0;34m(self, x)\u001b[0m\n\u001b[1;32m     14\u001b[0m         \u001b[0;31m# output = self.activation(output)\u001b[0m\u001b[0;34m\u001b[0m\u001b[0;34m\u001b[0m\u001b[0;34m\u001b[0m\u001b[0m\n\u001b[1;32m     15\u001b[0m         \u001b[0moutput\u001b[0m\u001b[0;34m,\u001b[0m \u001b[0m_\u001b[0m \u001b[0;34m=\u001b[0m \u001b[0mself\u001b[0m\u001b[0;34m.\u001b[0m\u001b[0mgru\u001b[0m\u001b[0;34m(\u001b[0m\u001b[0mx\u001b[0m\u001b[0;34m)\u001b[0m\u001b[0;34m\u001b[0m\u001b[0;34m\u001b[0m\u001b[0m\n\u001b[0;32m---> 16\u001b[0;31m         \u001b[0moutput\u001b[0m \u001b[0;34m=\u001b[0m \u001b[0moutput\u001b[0m\u001b[0;34m[\u001b[0m\u001b[0;34m:\u001b[0m\u001b[0;34m,\u001b[0m\u001b[0;34m-\u001b[0m\u001b[0;36m1\u001b[0m\u001b[0;34m,\u001b[0m\u001b[0;34m:\u001b[0m\u001b[0;34m]\u001b[0m\u001b[0;34m\u001b[0m\u001b[0;34m\u001b[0m\u001b[0m\n\u001b[0m\u001b[1;32m     17\u001b[0m         \u001b[0moutput\u001b[0m \u001b[0;34m=\u001b[0m \u001b[0mself\u001b[0m\u001b[0;34m.\u001b[0m\u001b[0mlinear\u001b[0m\u001b[0;34m(\u001b[0m\u001b[0moutput\u001b[0m\u001b[0;34m)\u001b[0m\u001b[0;34m\u001b[0m\u001b[0;34m\u001b[0m\u001b[0m\n\u001b[1;32m     18\u001b[0m         \u001b[0;32mreturn\u001b[0m \u001b[0moutput\u001b[0m\u001b[0;34m\u001b[0m\u001b[0;34m\u001b[0m\u001b[0m\n",
            "\u001b[0;31mIndexError\u001b[0m: too many indices for tensor of dimension 2"
          ]
        }
      ]
    },
    {
      "cell_type": "code",
      "source": [
        "x[0]"
      ],
      "metadata": {
        "colab": {
          "base_uri": "https://localhost:8080/"
        },
        "id": "ZYxlKPEKHLSB",
        "outputId": "4e3727ed-f848-43f9-b795-91252b967b79"
      },
      "execution_count": null,
      "outputs": [
        {
          "output_type": "execute_result",
          "data": {
            "text/plain": [
              "tensor([2.8680, 3.0128, 2.9950, 3.0069, 2.9773, 2.9814, 2.9434, 2.9317, 3.0077,\n",
              "        3.0485, 3.0427, 3.0515, 3.0602, 3.0573, 3.0602, 3.0982, 3.1099, 3.0542,\n",
              "        3.2680, 3.2507, 3.2709, 3.2767, 3.2507, 3.2334])"
            ]
          },
          "metadata": {},
          "execution_count": 135
        }
      ]
    },
    {
      "cell_type": "code",
      "source": [
        "y[0]"
      ],
      "metadata": {
        "colab": {
          "base_uri": "https://localhost:8080/"
        },
        "id": "FPNjleAqV6Sz",
        "outputId": "52778416-23b6-4e6a-92b2-ae1037f3c2bb"
      },
      "execution_count": null,
      "outputs": [
        {
          "output_type": "execute_result",
          "data": {
            "text/plain": [
              "tensor([3.2420])"
            ]
          },
          "metadata": {},
          "execution_count": 136
        }
      ]
    },
    {
      "cell_type": "code",
      "source": [
        "z = torch.unsqueeze(x[0], 0)"
      ],
      "metadata": {
        "id": "Zc3pn3gKWFo-"
      },
      "execution_count": null,
      "outputs": []
    },
    {
      "cell_type": "code",
      "source": [
        "z.shape"
      ],
      "metadata": {
        "colab": {
          "base_uri": "https://localhost:8080/"
        },
        "id": "egmXvbvVWLLo",
        "outputId": "a0ecc14b-efe1-484c-e785-f541fcdd8c7d"
      },
      "execution_count": null,
      "outputs": [
        {
          "output_type": "execute_result",
          "data": {
            "text/plain": [
              "torch.Size([1, 24])"
            ]
          },
          "metadata": {},
          "execution_count": 139
        }
      ]
    },
    {
      "cell_type": "code",
      "source": [
        "model(z.to(device))"
      ],
      "metadata": {
        "id": "PAYhUeNf4BON",
        "colab": {
          "base_uri": "https://localhost:8080/"
        },
        "outputId": "f8621723-fca9-4801-dd8b-f6ccd4a88a18"
      },
      "execution_count": null,
      "outputs": [
        {
          "output_type": "execute_result",
          "data": {
            "text/plain": [
              "tensor([[10.9236]], device='cuda:0', grad_fn=<AddmmBackward0>)"
            ]
          },
          "metadata": {},
          "execution_count": 140
        }
      ]
    },
    {
      "cell_type": "code",
      "source": [],
      "metadata": {
        "id": "s1xoJqxIHBCS"
      },
      "execution_count": null,
      "outputs": []
    }
  ]
}